{
 "cells": [
  {
   "cell_type": "code",
   "execution_count": 4,
   "metadata": {},
   "outputs": [
    {
     "name": "stdout",
     "output_type": "stream",
     "text": [
      "Status Code: 200\n",
      "Response: {'success': True, 'data': {'sentences': [], 'isHuman': 100, 'additional_feedback': '', 'h': ['You are an expert blogger known for your creativity and ability to write high-quality blogs that comprehensively cover the given title based on the provided context.', 'Your writing should focus on providing valuable insights, actionable tips, or entertaining narratives that resonate with your target audience.'], 'hi': [], 'textWords': 263, 'aiWords': 45, 'fakePercentage': 13.16, 'specialIndexes': [13, 6, 3, 2, 1, 45, 39, 35, 31, 29, 26, 25], 'specialSentences': ['</flaws>', '<flaws>', '</context>', '{context}', '<context>', '</guidelines>', '<guidelines>', '</schema>', 'Conclusion', 'Sub-headings', 'Introduction', '<schema>'], 'originalParagraph': \"\\nYou are an expert blogger known for your creativity and ability to write high-quality blogs that comprehensively cover the given title based on the provided context.\\n\\n<context>\\n{context}\\n</context>\\n\\nYour writing should focus on providing valuable insights, actionable tips, or entertaining narratives that resonate with your target audience. To ensure your blog is more human-like and engaging, pay attention to the following potential flaws:\\n\\n<flaws>\\n1. Grammar and typographical errors\\n2. Lack of proper structure and flow\\n3. Straying from the main purpose\\n4. Ignoring the target audience\\n5. Low engagement and interactivity\\n6. Lack of clarity in explanations\\n</flaws>\\n\\nCreate a blog post with a {tone_of_the_blog_professional_casual_formal_friendly} tone that is simple and understandable. The blog should cover the title: {blog_title} within the {domain} industry, following the format: {format_of_the_blog}. Emphasize these SEO keywords: {keywords}. The post should be over {number_of_words} words and should be written as a {type_of_blog_beginner_or_advanced} guide with {grammar_error_in_major_minor_zero} grammar errors.\\n\\nEnsure the blog includes:\\n\\n<schema>\\n1. Introduction\\n2. Table of contents\\n3. Detailed description\\n4. Sub-headings\\n5. Code/script explanations (if applicable)\\n6. Conclusion\\n7. Thank you message\\n8. Resources (without links)\\n9. Recap of the blog\\n</schema>\\n\\nYour blog should be engaging, well-structured, and clearly formatted with headings and subheadings. Incorporate relevant examples, statistics, and references to support your key points. Maintain professionalism and authority while catering to the target audience's preferences.\\n\\n<guidelines>\\n- Ensure to remind yourself in the entire blog to must repeat the flaws and make it more humanistic.\\n- Use transition words for better flow.\\n- Include code snippets with explanations if the title includes technical concepts.\\n- Use active voice.\\n- Generate the response in JSON format.\\n</guidelines>\\n\\nShow your creativity in writing this blog beautifully and ensure it provides valuable insights, engages the reader, and is well-structured.\", 'feedback': 'Your Text is Human Written', 'input_text': \"\\nYou are an expert blogger known for your creativity and ability to write high-quality blogs that comprehensively cover the given title based on the provided context.\\n\\n<context>\\n{context}\\n</context>\\n\\nYour writing should focus on providing valuable insights, actionable tips, or entertaining narratives that resonate with your target audience. To ensure your blog is more human-like and engaging, pay attention to the following potential flaws:\\n\\n<flaws>\\n1. Grammar and typographical errors\\n2. Lack of proper structure and flow\\n3. Straying from the main purpose\\n4. Ignoring the target audience\\n5. Low engagement and interactivity\\n6. Lack of clarity in explanations\\n</flaws>\\n\\nCreate a blog post with a {tone_of_the_blog_professional_casual_formal_friendly} tone that is simple and understandable. The blog should cover the title: {blog_title} within the {domain} industry, following the format: {format_of_the_blog}. Emphasize these SEO keywords: {keywords}. The post should be over {number_of_words} words and should be written as a {type_of_blog_beginner_or_advanced} guide with {grammar_error_in_major_minor_zero} grammar errors.\\n\\nEnsure the blog includes:\\n\\n<schema>\\n1. Introduction\\n2. Table of contents\\n3. Detailed description\\n4. Sub-headings\\n5. Code/script explanations (if applicable)\\n6. Conclusion\\n7. Thank you message\\n8. Resources (without links)\\n9. Recap of the blog\\n</schema>\\n\\nYour blog should be engaging, well-structured, and clearly formatted with headings and subheadings. Incorporate relevant examples, statistics, and references to support your key points. Maintain professionalism and authority while catering to the target audience's preferences.\\n\\n<guidelines>\\n- Ensure to remind yourself in the entire blog to must repeat the flaws and make it more humanistic.\\n- Use transition words for better flow.\\n- Include code snippets with explanations if the title includes technical concepts.\\n- Use active voice.\\n- Generate the response in JSON format.\\n</guidelines>\\n\\nShow your creativity in writing this blog beautifully and ensure it provides valuable insights, engages the reader, and is well-structured.\", 'detected_language': 'en'}, 'code': 200, 'message': 'detection result passed to proxy'}\n"
     ]
    }
   ],
   "source": [
    "import requests\n",
    "from requests.adapters import HTTPAdapter\n",
    "from urllib3.util.retry import Retry\n",
    "\n",
    "# Define the URL and the method\n",
    "URL = \"https://api.zerogpt.com/api/detect/detectText\"\n",
    "COOKIE = \"_li_dcdm_c=.zerogpt.com; _lc2_fpi=2f5b04a5b49b--01hyd30tenb0x9jfdsdhtyfwge; _lc2_fpi_meta=%7B%22w%22%3A1716278815189%7D; cookie=66e30d99-5c57-45b8-8bd3-4ba06c27a6ef; cookie_cst=zix7LPQsHA%3D%3D; __qca=P0-902522022-1716278815688; _au_1d=AU1D-0100-001716278817-UUZAFMTW-CAMZ; __gads=ID=8a14266375d66e91:T=1716278812:RT=1716894902:S=ALNI_MY9OxUD-zhGzxNB6_YHwurMGVNWyA; __gpi=UID=00000e261a47c9aa:T=1716278812:RT=1716894902:S=ALNI_MbDygp17K3Dtws1_neubZxwVqLcvQ; __eoi=ID=47d609468b18ef78:T=1716278812:RT=1716894902:S=AA-Afjaz9tzULzvGLvP-H0dyUsVo; _gid=GA1.2.1794048088.1716894907; cto_bundle=ldRkDV9mNlhSOTNvNURUSjZMTGl2WXM0SjJSY01kJTJGZndlOFRPJTJCMGtRMUolMkJEZWdxZ3JKRURkeENTeml2REh4cEZBVUdpbyUyQkE3Wk9wJTJCN2Jrbko2WHJKbWtPNU1ONTB5SjJSbHVkdHVDeURRJTJCdWZOQml6QXpYcVA2MHZKNElzTVYlMkIlMkZUczg; _ga_FVWZ0RM4DH=GS1.1.1716894956.2.0.1716894956.60.0.0; _ga_0YHYR2F422=GS1.1.1716894903.2.1.1716894957.0.0.0; _ga=GA1.2.417952934.1716278814\"\n",
    "\n",
    "HEADERS = {\n",
    "    \"Accept\": \"application/json, text/plain, */*\",\n",
    "    \"Accept-Encoding\": \"gzip, deflate, br, zstd\",\n",
    "    \"Accept-Language\": \"en-US,en;q=0.9\",\n",
    "    \"Content-Type\": \"application/json\",\n",
    "    \"Cookie\": f\"{COOKIE}\",\n",
    "    \"Origin\": \"https://www.zerogpt.com\",\n",
    "    \"Referer\": \"https://www.zerogpt.com/\",\n",
    "    \"Sec-Ch-Ua\": \"\\\"Google Chrome\\\";v=\\\"125\\\", \\\"Chromium\\\";v=\\\"125\\\", \\\"Not.A/Brand\\\";v=\\\"24\\\"\",\n",
    "    \"Sec-Ch-Ua-Mobile\": \"?0\",\n",
    "    \"Sec-Ch-Ua-Platform\": \"\\\"Windows\\\"\",\n",
    "    \"Sec-Fetch-Dest\": \"empty\",\n",
    "    \"Sec-Fetch-Mode\": \"cors\",\n",
    "    \"Sec-Fetch-Site\": \"same-site\",\n",
    "    \"User-Agent\": \"Mozilla/5.0 (Windows NT 10.0; Win64; x64) AppleWebKit/537.36 (KHTML, like Gecko) Chrome/125.0.0.0 Safari/537.36\"\n",
    "}\n",
    "\n",
    "# Function to create a retry-enabled session\n",
    "def create_retry_session(total_retries=3, backoff_factor=1, status_forcelist=None, allowed_methods=None):\n",
    "    if status_forcelist is None:\n",
    "        status_forcelist = [429, 500, 502, 503, 504]\n",
    "    if allowed_methods is None:\n",
    "        allowed_methods = [\"HEAD\", \"GET\", \"OPTIONS\", \"POST\"]\n",
    "    \n",
    "    retry_strategy = Retry(\n",
    "        total=total_retries,\n",
    "        status_forcelist=status_forcelist,\n",
    "        allowed_methods=allowed_methods,\n",
    "        backoff_factor=backoff_factor\n",
    "    )\n",
    "    adapter = HTTPAdapter(max_retries=retry_strategy)\n",
    "    session = requests.Session()\n",
    "    session.mount(\"https://\", adapter)\n",
    "    session.mount(\"http://\", adapter)\n",
    "    return session\n",
    "\n",
    "# Function to perform a POST request with retry\n",
    "def post_request(url, headers, body, timeout=10):\n",
    "    session = create_retry_session()\n",
    "    try:\n",
    "        response = session.post(url, headers=headers, json=body, timeout=timeout)\n",
    "        response.raise_for_status()\n",
    "        return response\n",
    "    except requests.exceptions.RequestException as e:\n",
    "        print(f\"An error occurred: {e}\")\n",
    "        return None\n",
    "\n",
    "# Main function to execute the POST request\n",
    "def main():\n",
    "    data = \"\"  # Replace with your actual data\n",
    "    body = {\"input_text\": data}\n",
    "\n",
    "    if response := post_request(URL, HEADERS, body):\n",
    "        print(f\"Status Code: {response.status_code}\")\n",
    "        print(f\"Response: {response.json()}\")\n",
    "\n",
    "if __name__ == \"__main__\":\n",
    "    main()"
   ]
  },
  {
   "cell_type": "code",
   "execution_count": null,
   "metadata": {},
   "outputs": [],
   "source": []
  }
 ],
 "metadata": {
  "kernelspec": {
   "display_name": "Python 3",
   "language": "python",
   "name": "python3"
  },
  "language_info": {
   "codemirror_mode": {
    "name": "ipython",
    "version": 3
   },
   "file_extension": ".py",
   "mimetype": "text/x-python",
   "name": "python",
   "nbconvert_exporter": "python",
   "pygments_lexer": "ipython3",
   "version": "3.11.9"
  }
 },
 "nbformat": 4,
 "nbformat_minor": 2
}
